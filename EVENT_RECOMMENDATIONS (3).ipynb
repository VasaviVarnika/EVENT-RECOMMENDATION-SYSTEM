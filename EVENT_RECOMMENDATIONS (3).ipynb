{
  "nbformat": 4,
  "nbformat_minor": 0,
  "metadata": {
    "colab": {
      "provenance": []
    },
    "kernelspec": {
      "name": "python3",
      "display_name": "Python 3"
    },
    "language_info": {
      "name": "python"
    }
  },
  "cells": [
    {
      "cell_type": "code",
      "execution_count": 27,
      "metadata": {
        "id": "kITpwjL1rOwE"
      },
      "outputs": [],
      "source": [
        "import numpy as np\n",
        "import pandas as pd\n",
        "import difflib\n",
        "from sklearn.feature_extraction.text import TfidfVectorizer\n",
        "from sklearn.metrics.pairwise import cosine_similarity"
      ]
    },
    {
      "cell_type": "code",
      "source": [
        "events_data = pd.read_csv('/content/updated_eventbrite_prices.csv')"
      ],
      "metadata": {
        "id": "IR0paZHLrhX0"
      },
      "execution_count": 28,
      "outputs": []
    },
    {
      "cell_type": "code",
      "source": [
        "events_data.head()"
      ],
      "metadata": {
        "colab": {
          "base_uri": "https://localhost:8080/",
          "height": 608
        },
        "id": "SuOZtAJbrtgb",
        "outputId": "5da79e08-b055-40f7-bb7e-e19a51246bce"
      },
      "execution_count": 29,
      "outputs": [
        {
          "output_type": "execute_result",
          "data": {
            "text/plain": [
              "   Unnamed: 0                                         event_name  \\\n",
              "0           0                    DwellFi PropTech and Web3 Event   \n",
              "1           1                     ABBA DANCING QUEEN DISCO NIGHT   \n",
              "2           2                  The Unreal Garden - San Francisco   \n",
              "3           3  No Scrubs: SF's Best '90s Hip Hop and R&B Nigh...   \n",
              "4           4                        45th Stanford Viennese Ball   \n",
              "\n",
              "                                          event_date  \\\n",
              "0      Thu, February 23, 2025, 5:30 PM – 8:30 PM PST   \n",
              "1  Sat, Feb 25, 2025, 10:00 PM – Sun, Feb 26, 202...   \n",
              "2      Multiple Dates Sun, Feb 26, 2025, 6:00 PM PDT   \n",
              "3                                Multiple Dates PDT    \n",
              "4  Sat, Feb 25, 2025, 8:30 PM – Sun, Feb 26, 2025...   \n",
              "\n",
              "                                      event_location  event_price  \\\n",
              "0      Celo 500 Treat Avenue San Francisco, CA 94110       276.66   \n",
              "1  The Record Bar 163 Eddy Street San Francisco, ...       359.02   \n",
              "2  Palace of Fine Arts 3601 Lyon Street San Franc...       303.37   \n",
              "3  Neck of the Woods 406 Clement Street San Franc...       274.72   \n",
              "4  Hilton San Francisco Union Square 333 O'Farrel...       214.71   \n",
              "\n",
              "                                       event_details  \\\n",
              "0  T﻿his event is focused on PropTech and Web3.Pa...   \n",
              "1  ABBA DANCING QUEEN DISCO NIGHTA Disco dance pa...   \n",
              "2  This fall only, experience the hit immersive e...   \n",
              "3  One of SF's most popular weekly dance parties ...   \n",
              "4  Stanford Viennese Ball is an annual event mode...   \n",
              "\n",
              "                       geolocation                 category  \n",
              "0    POINT (37.735286 -122.408126)  Entertainment - Theater  \n",
              "1    POINT (37.784144 -122.410313)    Entertainment - Music  \n",
              "2     POINT (37.80408 -122.448179)  Entertainment - Theater  \n",
              "3  POINT (37.7831255 -122.4637116)    Entertainment - Dance  \n",
              "4  POINT (37.7857343 -122.4104369)    Entertainment - Music  "
            ],
            "text/html": [
              "\n",
              "  <div id=\"df-6b44d580-2b00-495d-ac73-a339cae8f9fa\" class=\"colab-df-container\">\n",
              "    <div>\n",
              "<style scoped>\n",
              "    .dataframe tbody tr th:only-of-type {\n",
              "        vertical-align: middle;\n",
              "    }\n",
              "\n",
              "    .dataframe tbody tr th {\n",
              "        vertical-align: top;\n",
              "    }\n",
              "\n",
              "    .dataframe thead th {\n",
              "        text-align: right;\n",
              "    }\n",
              "</style>\n",
              "<table border=\"1\" class=\"dataframe\">\n",
              "  <thead>\n",
              "    <tr style=\"text-align: right;\">\n",
              "      <th></th>\n",
              "      <th>Unnamed: 0</th>\n",
              "      <th>event_name</th>\n",
              "      <th>event_date</th>\n",
              "      <th>event_location</th>\n",
              "      <th>event_price</th>\n",
              "      <th>event_details</th>\n",
              "      <th>geolocation</th>\n",
              "      <th>category</th>\n",
              "    </tr>\n",
              "  </thead>\n",
              "  <tbody>\n",
              "    <tr>\n",
              "      <th>0</th>\n",
              "      <td>0</td>\n",
              "      <td>DwellFi PropTech and Web3 Event</td>\n",
              "      <td>Thu, February 23, 2025, 5:30 PM – 8:30 PM PST</td>\n",
              "      <td>Celo 500 Treat Avenue San Francisco, CA 94110</td>\n",
              "      <td>276.66</td>\n",
              "      <td>T﻿his event is focused on PropTech and Web3.Pa...</td>\n",
              "      <td>POINT (37.735286 -122.408126)</td>\n",
              "      <td>Entertainment - Theater</td>\n",
              "    </tr>\n",
              "    <tr>\n",
              "      <th>1</th>\n",
              "      <td>1</td>\n",
              "      <td>ABBA DANCING QUEEN DISCO NIGHT</td>\n",
              "      <td>Sat, Feb 25, 2025, 10:00 PM – Sun, Feb 26, 202...</td>\n",
              "      <td>The Record Bar 163 Eddy Street San Francisco, ...</td>\n",
              "      <td>359.02</td>\n",
              "      <td>ABBA DANCING QUEEN DISCO NIGHTA Disco dance pa...</td>\n",
              "      <td>POINT (37.784144 -122.410313)</td>\n",
              "      <td>Entertainment - Music</td>\n",
              "    </tr>\n",
              "    <tr>\n",
              "      <th>2</th>\n",
              "      <td>2</td>\n",
              "      <td>The Unreal Garden - San Francisco</td>\n",
              "      <td>Multiple Dates Sun, Feb 26, 2025, 6:00 PM PDT</td>\n",
              "      <td>Palace of Fine Arts 3601 Lyon Street San Franc...</td>\n",
              "      <td>303.37</td>\n",
              "      <td>This fall only, experience the hit immersive e...</td>\n",
              "      <td>POINT (37.80408 -122.448179)</td>\n",
              "      <td>Entertainment - Theater</td>\n",
              "    </tr>\n",
              "    <tr>\n",
              "      <th>3</th>\n",
              "      <td>3</td>\n",
              "      <td>No Scrubs: SF's Best '90s Hip Hop and R&amp;B Nigh...</td>\n",
              "      <td>Multiple Dates PDT</td>\n",
              "      <td>Neck of the Woods 406 Clement Street San Franc...</td>\n",
              "      <td>274.72</td>\n",
              "      <td>One of SF's most popular weekly dance parties ...</td>\n",
              "      <td>POINT (37.7831255 -122.4637116)</td>\n",
              "      <td>Entertainment - Dance</td>\n",
              "    </tr>\n",
              "    <tr>\n",
              "      <th>4</th>\n",
              "      <td>4</td>\n",
              "      <td>45th Stanford Viennese Ball</td>\n",
              "      <td>Sat, Feb 25, 2025, 8:30 PM – Sun, Feb 26, 2025...</td>\n",
              "      <td>Hilton San Francisco Union Square 333 O'Farrel...</td>\n",
              "      <td>214.71</td>\n",
              "      <td>Stanford Viennese Ball is an annual event mode...</td>\n",
              "      <td>POINT (37.7857343 -122.4104369)</td>\n",
              "      <td>Entertainment - Music</td>\n",
              "    </tr>\n",
              "  </tbody>\n",
              "</table>\n",
              "</div>\n",
              "    <div class=\"colab-df-buttons\">\n",
              "\n",
              "  <div class=\"colab-df-container\">\n",
              "    <button class=\"colab-df-convert\" onclick=\"convertToInteractive('df-6b44d580-2b00-495d-ac73-a339cae8f9fa')\"\n",
              "            title=\"Convert this dataframe to an interactive table.\"\n",
              "            style=\"display:none;\">\n",
              "\n",
              "  <svg xmlns=\"http://www.w3.org/2000/svg\" height=\"24px\" viewBox=\"0 -960 960 960\">\n",
              "    <path d=\"M120-120v-720h720v720H120Zm60-500h600v-160H180v160Zm220 220h160v-160H400v160Zm0 220h160v-160H400v160ZM180-400h160v-160H180v160Zm440 0h160v-160H620v160ZM180-180h160v-160H180v160Zm440 0h160v-160H620v160Z\"/>\n",
              "  </svg>\n",
              "    </button>\n",
              "\n",
              "  <style>\n",
              "    .colab-df-container {\n",
              "      display:flex;\n",
              "      gap: 12px;\n",
              "    }\n",
              "\n",
              "    .colab-df-convert {\n",
              "      background-color: #E8F0FE;\n",
              "      border: none;\n",
              "      border-radius: 50%;\n",
              "      cursor: pointer;\n",
              "      display: none;\n",
              "      fill: #1967D2;\n",
              "      height: 32px;\n",
              "      padding: 0 0 0 0;\n",
              "      width: 32px;\n",
              "    }\n",
              "\n",
              "    .colab-df-convert:hover {\n",
              "      background-color: #E2EBFA;\n",
              "      box-shadow: 0px 1px 2px rgba(60, 64, 67, 0.3), 0px 1px 3px 1px rgba(60, 64, 67, 0.15);\n",
              "      fill: #174EA6;\n",
              "    }\n",
              "\n",
              "    .colab-df-buttons div {\n",
              "      margin-bottom: 4px;\n",
              "    }\n",
              "\n",
              "    [theme=dark] .colab-df-convert {\n",
              "      background-color: #3B4455;\n",
              "      fill: #D2E3FC;\n",
              "    }\n",
              "\n",
              "    [theme=dark] .colab-df-convert:hover {\n",
              "      background-color: #434B5C;\n",
              "      box-shadow: 0px 1px 3px 1px rgba(0, 0, 0, 0.15);\n",
              "      filter: drop-shadow(0px 1px 2px rgba(0, 0, 0, 0.3));\n",
              "      fill: #FFFFFF;\n",
              "    }\n",
              "  </style>\n",
              "\n",
              "    <script>\n",
              "      const buttonEl =\n",
              "        document.querySelector('#df-6b44d580-2b00-495d-ac73-a339cae8f9fa button.colab-df-convert');\n",
              "      buttonEl.style.display =\n",
              "        google.colab.kernel.accessAllowed ? 'block' : 'none';\n",
              "\n",
              "      async function convertToInteractive(key) {\n",
              "        const element = document.querySelector('#df-6b44d580-2b00-495d-ac73-a339cae8f9fa');\n",
              "        const dataTable =\n",
              "          await google.colab.kernel.invokeFunction('convertToInteractive',\n",
              "                                                    [key], {});\n",
              "        if (!dataTable) return;\n",
              "\n",
              "        const docLinkHtml = 'Like what you see? Visit the ' +\n",
              "          '<a target=\"_blank\" href=https://colab.research.google.com/notebooks/data_table.ipynb>data table notebook</a>'\n",
              "          + ' to learn more about interactive tables.';\n",
              "        element.innerHTML = '';\n",
              "        dataTable['output_type'] = 'display_data';\n",
              "        await google.colab.output.renderOutput(dataTable, element);\n",
              "        const docLink = document.createElement('div');\n",
              "        docLink.innerHTML = docLinkHtml;\n",
              "        element.appendChild(docLink);\n",
              "      }\n",
              "    </script>\n",
              "  </div>\n",
              "\n",
              "\n",
              "<div id=\"df-47c5ae00-53d8-42ee-befa-0f94e50bc330\">\n",
              "  <button class=\"colab-df-quickchart\" onclick=\"quickchart('df-47c5ae00-53d8-42ee-befa-0f94e50bc330')\"\n",
              "            title=\"Suggest charts\"\n",
              "            style=\"display:none;\">\n",
              "\n",
              "<svg xmlns=\"http://www.w3.org/2000/svg\" height=\"24px\"viewBox=\"0 0 24 24\"\n",
              "     width=\"24px\">\n",
              "    <g>\n",
              "        <path d=\"M19 3H5c-1.1 0-2 .9-2 2v14c0 1.1.9 2 2 2h14c1.1 0 2-.9 2-2V5c0-1.1-.9-2-2-2zM9 17H7v-7h2v7zm4 0h-2V7h2v10zm4 0h-2v-4h2v4z\"/>\n",
              "    </g>\n",
              "</svg>\n",
              "  </button>\n",
              "\n",
              "<style>\n",
              "  .colab-df-quickchart {\n",
              "      --bg-color: #E8F0FE;\n",
              "      --fill-color: #1967D2;\n",
              "      --hover-bg-color: #E2EBFA;\n",
              "      --hover-fill-color: #174EA6;\n",
              "      --disabled-fill-color: #AAA;\n",
              "      --disabled-bg-color: #DDD;\n",
              "  }\n",
              "\n",
              "  [theme=dark] .colab-df-quickchart {\n",
              "      --bg-color: #3B4455;\n",
              "      --fill-color: #D2E3FC;\n",
              "      --hover-bg-color: #434B5C;\n",
              "      --hover-fill-color: #FFFFFF;\n",
              "      --disabled-bg-color: #3B4455;\n",
              "      --disabled-fill-color: #666;\n",
              "  }\n",
              "\n",
              "  .colab-df-quickchart {\n",
              "    background-color: var(--bg-color);\n",
              "    border: none;\n",
              "    border-radius: 50%;\n",
              "    cursor: pointer;\n",
              "    display: none;\n",
              "    fill: var(--fill-color);\n",
              "    height: 32px;\n",
              "    padding: 0;\n",
              "    width: 32px;\n",
              "  }\n",
              "\n",
              "  .colab-df-quickchart:hover {\n",
              "    background-color: var(--hover-bg-color);\n",
              "    box-shadow: 0 1px 2px rgba(60, 64, 67, 0.3), 0 1px 3px 1px rgba(60, 64, 67, 0.15);\n",
              "    fill: var(--button-hover-fill-color);\n",
              "  }\n",
              "\n",
              "  .colab-df-quickchart-complete:disabled,\n",
              "  .colab-df-quickchart-complete:disabled:hover {\n",
              "    background-color: var(--disabled-bg-color);\n",
              "    fill: var(--disabled-fill-color);\n",
              "    box-shadow: none;\n",
              "  }\n",
              "\n",
              "  .colab-df-spinner {\n",
              "    border: 2px solid var(--fill-color);\n",
              "    border-color: transparent;\n",
              "    border-bottom-color: var(--fill-color);\n",
              "    animation:\n",
              "      spin 1s steps(1) infinite;\n",
              "  }\n",
              "\n",
              "  @keyframes spin {\n",
              "    0% {\n",
              "      border-color: transparent;\n",
              "      border-bottom-color: var(--fill-color);\n",
              "      border-left-color: var(--fill-color);\n",
              "    }\n",
              "    20% {\n",
              "      border-color: transparent;\n",
              "      border-left-color: var(--fill-color);\n",
              "      border-top-color: var(--fill-color);\n",
              "    }\n",
              "    30% {\n",
              "      border-color: transparent;\n",
              "      border-left-color: var(--fill-color);\n",
              "      border-top-color: var(--fill-color);\n",
              "      border-right-color: var(--fill-color);\n",
              "    }\n",
              "    40% {\n",
              "      border-color: transparent;\n",
              "      border-right-color: var(--fill-color);\n",
              "      border-top-color: var(--fill-color);\n",
              "    }\n",
              "    60% {\n",
              "      border-color: transparent;\n",
              "      border-right-color: var(--fill-color);\n",
              "    }\n",
              "    80% {\n",
              "      border-color: transparent;\n",
              "      border-right-color: var(--fill-color);\n",
              "      border-bottom-color: var(--fill-color);\n",
              "    }\n",
              "    90% {\n",
              "      border-color: transparent;\n",
              "      border-bottom-color: var(--fill-color);\n",
              "    }\n",
              "  }\n",
              "</style>\n",
              "\n",
              "  <script>\n",
              "    async function quickchart(key) {\n",
              "      const quickchartButtonEl =\n",
              "        document.querySelector('#' + key + ' button');\n",
              "      quickchartButtonEl.disabled = true;  // To prevent multiple clicks.\n",
              "      quickchartButtonEl.classList.add('colab-df-spinner');\n",
              "      try {\n",
              "        const charts = await google.colab.kernel.invokeFunction(\n",
              "            'suggestCharts', [key], {});\n",
              "      } catch (error) {\n",
              "        console.error('Error during call to suggestCharts:', error);\n",
              "      }\n",
              "      quickchartButtonEl.classList.remove('colab-df-spinner');\n",
              "      quickchartButtonEl.classList.add('colab-df-quickchart-complete');\n",
              "    }\n",
              "    (() => {\n",
              "      let quickchartButtonEl =\n",
              "        document.querySelector('#df-47c5ae00-53d8-42ee-befa-0f94e50bc330 button');\n",
              "      quickchartButtonEl.style.display =\n",
              "        google.colab.kernel.accessAllowed ? 'block' : 'none';\n",
              "    })();\n",
              "  </script>\n",
              "</div>\n",
              "\n",
              "    </div>\n",
              "  </div>\n"
            ],
            "application/vnd.google.colaboratory.intrinsic+json": {
              "type": "dataframe",
              "variable_name": "events_data",
              "summary": "{\n  \"name\": \"events_data\",\n  \"rows\": 768,\n  \"fields\": [\n    {\n      \"column\": \"Unnamed: 0\",\n      \"properties\": {\n        \"dtype\": \"number\",\n        \"std\": 221,\n        \"min\": 0,\n        \"max\": 767,\n        \"num_unique_values\": 768,\n        \"samples\": [\n          668,\n          324,\n          624\n        ],\n        \"semantic_type\": \"\",\n        \"description\": \"\"\n      }\n    },\n    {\n      \"column\": \"event_name\",\n      \"properties\": {\n        \"dtype\": \"string\",\n        \"num_unique_values\": 766,\n        \"samples\": [\n          \"Family Fun Night @ Line 51\",\n          \"In-Person: Intro to Improv in the Mission with Susie Sargent\",\n          \"Traversing Worlds: Our Lives In The Absence of Justice\"\n        ],\n        \"semantic_type\": \"\",\n        \"description\": \"\"\n      }\n    },\n    {\n      \"column\": \"event_date\",\n      \"properties\": {\n        \"dtype\": \"string\",\n        \"num_unique_values\": 559,\n        \"samples\": [\n          \"Multiple Dates Sat, Mar 18, 2025, 8:30 PM PST\",\n          \"Multiple Dates Fri, Mar 31, 2025, 11:00 AM PST\",\n          \"Wed, February 22, 2025, 5:00 PM \\u2013 7:00 PM PST\"\n        ],\n        \"semantic_type\": \"\",\n        \"description\": \"\"\n      }\n    },\n    {\n      \"column\": \"event_location\",\n      \"properties\": {\n        \"dtype\": \"string\",\n        \"num_unique_values\": 575,\n        \"samples\": [\n          \"The Back Room 1984 Bonita Avenue Berkeley, CA 94704\",\n          \"Red Velvet Burlesque Show San Francisco 358 Ocean Ave San Francisco, CA 94112\",\n          \"Oakland Public Library 3301 E. 12th St Oakland, CA 94601\"\n        ],\n        \"semantic_type\": \"\",\n        \"description\": \"\"\n      }\n    },\n    {\n      \"column\": \"event_price\",\n      \"properties\": {\n        \"dtype\": \"number\",\n        \"std\": 144.7416870887257,\n        \"min\": 5.68,\n        \"max\": 499.64,\n        \"num_unique_values\": 763,\n        \"samples\": [\n          199.37,\n          149.61,\n          137.27\n        ],\n        \"semantic_type\": \"\",\n        \"description\": \"\"\n      }\n    },\n    {\n      \"column\": \"event_details\",\n      \"properties\": {\n        \"dtype\": \"string\",\n        \"num_unique_values\": 726,\n        \"samples\": [\n          \"BIG MOOD Is an experience curated by Bay Area-based Djs: Brayo and KOKO. This event occurs Every Thursday at AU LOUNGE (2430 BROADWAY, OAKLAND,CA, 94612).Afrokaraoke 9-11pmThe Party 11-2amCome vibe with good people and even better music from all genres\\u2014yes we\\u2019ll play everything!You don\\u2019t want to be anywhere else on a Thursday night, so s\\ufefftep into our world and experience a night of the best music selection from all over the world.W\\ufeffE ARE GOOD PEOPLES!\",\n          \"Join us for the Opening Reception of two Spring 2025 exhibitions.Textures of Remembrance: Vietnamese Artists and Writers Reflect on the Vietnamese Diaspora explores stories of personal struggles and memories demonstrating the effects of the Vietnam war on identity, sense of family and community, and representation, featuring works by emerging writers and artists. Other Worlds: The Art of Storytelling is a student-developed exhibit which explores global storytelling traditions\\u2014acting, dance, puppetry, game design, costuming, film, and literature\\u2014through material culture, immersing visitors in an adventure following the Hero's Journey.F\\ufeffree and open to the public, RSVP appreciated.---Textures of Remembrance is a traveling exhibit created in partnership by the Diasporic Vietnamese Artists Network, Exhibit Envoy, and Oakland Asian Cultural Center. This project was made possible with support from California Humanities, a non-profit partner of the National Endowment for the Humanities, and California Arts Council, a state agency with a mission to strengthen arts, culture, and creative expression as the tools to cultivate a better California for all. Visit calhum.org and arts.ca.gov.Textures of Remembrance is supported by SF State's Instructionally Related Activities Fund, University Corporation's Kaufmann Museum Studies Lab Fund, and the School of Art Annual Barry Fund. Public programs are supported by SF State's Division of Equity and Community Inclusion's Educational and Interfaith Programs Fund.\",\n          \"Meditate, meet and get motivated. You learn and practice meditation and learn how to apply it to different and difficult situations in life. We recommend joining by laptop for better experience. All levels welcome.You will find experience of this online class very real life like and in fact more attentive and personal.Join us on Facebook for more resources- more live events, recorded sessions, self learning units, mentorship, downloads and some light hearted socialization.https://www.facebook.com/groups/WeMeditateGroupThe gentle and easy technique shared is known as 'Sahaja Yoga' meditation and is practiced in more than 100 countries and is always free. It was founded in 1970 by- Shri Mataji Nirmala Devi. When practiced for 10 minutes a day it can lead to dramatic positive change in your personal life - even after one week of practice!More at:https://sahajayogareview.wordpress.com/You can join up to 30 minutes before start of event if you have some queries or would like some one to one help. This is a recurring session that serves beginners and above. No prior experience needed.  After few sessions you are placed in next level where introduction is skipped and we share more techniques.1. Learn how to meditate at home2. Learn best practices and techniques3. Experience the 'awakening' of healing energy within us that gives peace and balance4. Acquire Sahaja Yoga meditation toolkit resources to apply techniques learnt in daily lifeMeditation is proven by science to be beneficial.  In Sahaja Yoga you will be able to perceive the awakening and balance that comes along.Real people, real experiences:https://sahajayogareview.wordpress.com/Resources:https://www.freemeditation.com/How to Meditate- the basics:https://www.youtube.com/watch?v=HTJtS-nIzMEInitial Guided Meditation:https://www.youtube.com/watch?v=RRO_0Aptwts&t=9sPlease feel free to email or WhatsApp following in case you have more questions or face difficulties joining Zoom session. We will try to keep you informed about more meditation events.Bhargava.potukuchi@gmail.com+15132038961Join Whatsapp Linkhttps://chat.whatsapp.com/K9ijSF8Ss8uBXs0UOu8yC3Stay safe and keep meditating!Free Sahaja Yoga Guided MeditationFounded in 1970 by 'Shri Mataji Nirmala Devi'Sahaja Yoga is a simple but profound technique and always freeJust with pure desire we get meditative once we awaken our Divine energyDepression and stress are fruits of modernityTechniques are shared that help when practiced with regularitySorrow just peel off when in meditative witness state and purityBe with meditative people with noble pursuits to shed social anxietySahaja Yoga is a meditation very social with spiritual growth achieved in collectivityIn balanced and joyous state eliminate loneliness with spiritual solidarityLife transformation & change coming from sermons speeches have no durabilityWork on inner system roots, water with pure desire and shine some DivinityIn Sahaja Yoga meditation following comes automaticallyMetaphysics, Consciousness, Self improvement, self empowerment, mindfulness and mental clarityMeditation is not a pill but a plant needing nourishment with sincerityWhile we cannot predict through meditation what heights you will achieve in lifeOur heart felt desire is to always share joy and knowledge in simplicityOur experiences say you will not be ordinary any more, shaken easily by any rifeSunday Free Guided Meditation class. Easy, practical and useful. Meditate for spiritual awakening , stress care, joy & health. Register now!Meditate for spiritual awakening, stress care, personal development, health and more..#training #free # guided #meditation # meditate #kundalini #social #language #culture #sahaja #transformation #peace #meditation #stress #depression #wellness #international #guided #experiences #sahaja yoga #Shri Mataji #Nirmala Devi #review #anxiety #center #Yoga #seminar #workshop #science\"\n        ],\n        \"semantic_type\": \"\",\n        \"description\": \"\"\n      }\n    },\n    {\n      \"column\": \"geolocation\",\n      \"properties\": {\n        \"dtype\": \"string\",\n        \"num_unique_values\": 508,\n        \"samples\": [\n          \"POINT (37.787605 -122.396859)\",\n          \"POINT (37.705014 -122.473366)\",\n          \"POINT (37.7859991 -122.4044428)\"\n        ],\n        \"semantic_type\": \"\",\n        \"description\": \"\"\n      }\n    },\n    {\n      \"column\": \"category\",\n      \"properties\": {\n        \"dtype\": \"category\",\n        \"num_unique_values\": 11,\n        \"samples\": [\n          \"Art & Culture - Art Exhibit\",\n          \"Entertainment - Theater\",\n          \"Education & Professional - Workshop\"\n        ],\n        \"semantic_type\": \"\",\n        \"description\": \"\"\n      }\n    }\n  ]\n}"
            }
          },
          "metadata": {},
          "execution_count": 29
        }
      ]
    },
    {
      "cell_type": "code",
      "source": [
        "events_data.shape\n"
      ],
      "metadata": {
        "colab": {
          "base_uri": "https://localhost:8080/"
        },
        "id": "IQ0etr98r0Tn",
        "outputId": "c220cebb-3c1d-4649-99fb-fbfb5d2c9543"
      },
      "execution_count": 30,
      "outputs": [
        {
          "output_type": "execute_result",
          "data": {
            "text/plain": [
              "(768, 8)"
            ]
          },
          "metadata": {},
          "execution_count": 30
        }
      ]
    },
    {
      "cell_type": "code",
      "source": [
        "# selecting the relevant features for recommendation\n",
        "\n",
        "selected_features = ['event_name','event_location','category','geolocation','event_details','event_price']\n",
        "print(selected_features)"
      ],
      "metadata": {
        "colab": {
          "base_uri": "https://localhost:8080/"
        },
        "id": "uTNjoHpzsDbv",
        "outputId": "96f487a8-2120-4f51-a30c-bbffc61a63ef"
      },
      "execution_count": 31,
      "outputs": [
        {
          "output_type": "stream",
          "name": "stdout",
          "text": [
            "['event_name', 'event_location', 'category', 'geolocation', 'event_details', 'event_price']\n"
          ]
        }
      ]
    },
    {
      "cell_type": "code",
      "source": [
        "for feature in selected_features:\n",
        "  events_data[feature] = events_data[feature].fillna('')"
      ],
      "metadata": {
        "id": "dP1n3RPUsuOQ"
      },
      "execution_count": 32,
      "outputs": []
    },
    {
      "cell_type": "code",
      "source": [
        "# combining all the 5 selected features\n",
        "\n",
        "combined_features = events_data['event_name']+' '+events_data['event_location']+' '+events_data['category']+' '+events_data['geolocation']+' '+events_data['event_details']+' '+events_data['event_price'].astype(str)"
      ],
      "metadata": {
        "id": "qCjdjK5Ws18t"
      },
      "execution_count": 33,
      "outputs": []
    },
    {
      "cell_type": "code",
      "source": [
        "print(combined_features)"
      ],
      "metadata": {
        "colab": {
          "base_uri": "https://localhost:8080/"
        },
        "id": "-tsccumktTfP",
        "outputId": "f61d13fc-6ebf-41a0-de78-d393d4a80b1e"
      },
      "execution_count": 34,
      "outputs": [
        {
          "output_type": "stream",
          "name": "stdout",
          "text": [
            "0      DwellFi PropTech and Web3 Event Celo 500 Treat...\n",
            "1      ABBA DANCING QUEEN DISCO NIGHT The Record Bar ...\n",
            "2      The Unreal Garden - San Francisco Palace of Fi...\n",
            "3      No Scrubs: SF's Best '90s Hip Hop and R&B Nigh...\n",
            "4      45th Stanford Viennese Ball Hilton San Francis...\n",
            "                             ...                        \n",
            "763    Saturday Night Speed Dating Oakland | Ages 24-...\n",
            "764    Throwback Thursday at Hometown Bowl Hometown B...\n",
            "765    How to Start a Personal Finance Business - Oak...\n",
            "766    San Francisco Barbary Coast Trail History Hike...\n",
            "767    Boba Happy Hour - Japantown, San Francisco Jap...\n",
            "Length: 768, dtype: object\n"
          ]
        }
      ]
    },
    {
      "cell_type": "code",
      "source": [
        "# converting the text data to feature vectors\n",
        "\n",
        "vectorizer = TfidfVectorizer()"
      ],
      "metadata": {
        "id": "iyoE-zEPt06p"
      },
      "execution_count": 35,
      "outputs": []
    },
    {
      "cell_type": "code",
      "source": [
        "feature_vectors = vectorizer.fit_transform(combined_features)"
      ],
      "metadata": {
        "id": "0y_R_Az4t5B5"
      },
      "execution_count": 36,
      "outputs": []
    },
    {
      "cell_type": "code",
      "source": [
        "print(feature_vectors)"
      ],
      "metadata": {
        "colab": {
          "base_uri": "https://localhost:8080/"
        },
        "id": "Tnt2MrVTt7eN",
        "outputId": "4ef3f228-2d93-4c5a-8ab4-a4b6d7a3ce92"
      },
      "execution_count": 37,
      "outputs": [
        {
          "output_type": "stream",
          "name": "stdout",
          "text": [
            "  (0, 6516)\t0.11989309644158717\n",
            "  (0, 13058)\t0.19982182740264529\n",
            "  (0, 2879)\t0.171183053387474\n",
            "  (0, 17165)\t0.13105062535762543\n",
            "  (0, 7067)\t0.04689271922931777\n",
            "  (0, 4520)\t0.19982182740264529\n",
            "  (0, 1423)\t0.02877798843979767\n",
            "  (0, 16400)\t0.03364881628182195\n",
            "  (0, 3346)\t0.0177101446833872\n",
            "  (0, 14203)\t0.01579849828750963\n",
            "  (0, 7728)\t0.016241609822899343\n",
            "  (0, 4263)\t0.005793689521833039\n",
            "  (0, 2205)\t0.02181584148733358\n",
            "  (0, 6911)\t0.010491351842861561\n",
            "  (0, 15999)\t0.01541932389914855\n",
            "  (0, 12658)\t0.005801228749954107\n",
            "  (0, 943)\t0.005839073920332797\n",
            "  (0, 1615)\t0.039964365480529056\n",
            "  (0, 118)\t0.005816336933731245\n",
            "  (0, 1083)\t0.039964365480529056\n",
            "  (0, 8704)\t0.018830560586705205\n",
            "  (0, 9466)\t0.031947397907352675\n",
            "  (0, 7608)\t0.030712253135631827\n",
            "  (0, 11849)\t0.01755633791698003\n",
            "  (0, 12149)\t0.027333267083114853\n",
            "  :\t:\n",
            "  (767, 14631)\t0.07300280044562839\n",
            "  (767, 9284)\t0.17249622889815888\n",
            "  (767, 16607)\t0.07859521829754917\n",
            "  (767, 4175)\t0.0717332929139219\n",
            "  (767, 15786)\t0.24514292056706308\n",
            "  (767, 10852)\t0.06706056406947856\n",
            "  (767, 2212)\t0.10805663874837398\n",
            "  (767, 11042)\t0.10482865244190388\n",
            "  (767, 9270)\t0.10638050754614703\n",
            "  (767, 15877)\t0.09443303516117793\n",
            "  (767, 7230)\t0.11187453620665772\n",
            "  (767, 9535)\t0.4112588454560673\n",
            "  (767, 13429)\t0.10203244351594348\n",
            "  (767, 293)\t0.1310620865862586\n",
            "  (767, 1401)\t0.10805663874837398\n",
            "  (767, 15894)\t0.12638935774181526\n",
            "  (767, 3882)\t0.29115381624283226\n",
            "  (767, 246)\t0.14557690812141613\n",
            "  (767, 1811)\t0.14557690812141613\n",
            "  (767, 1239)\t0.14557690812141613\n",
            "  (767, 17497)\t0.14557690812141613\n",
            "  (767, 7321)\t0.14557690812141613\n",
            "  (767, 17498)\t0.14557690812141613\n",
            "  (767, 10907)\t0.14557690812141613\n",
            "  (767, 5000)\t0.14557690812141613\n"
          ]
        }
      ]
    },
    {
      "cell_type": "code",
      "source": [
        "# getting the similarity scores using cosine similarity\n",
        "\n",
        "similarity = cosine_similarity(feature_vectors)"
      ],
      "metadata": {
        "id": "f1oFxmGDuImc"
      },
      "execution_count": 38,
      "outputs": []
    },
    {
      "cell_type": "code",
      "source": [
        "print(similarity)"
      ],
      "metadata": {
        "colab": {
          "base_uri": "https://localhost:8080/"
        },
        "id": "rLByA5oJuMO1",
        "outputId": "91ec4c8e-6c42-42a6-ae1c-50a8bbdcdd7f"
      },
      "execution_count": 39,
      "outputs": [
        {
          "output_type": "stream",
          "name": "stdout",
          "text": [
            "[[1.         0.04036367 0.11304002 ... 0.08855963 0.08606636 0.04774834]\n",
            " [0.04036367 1.         0.06518077 ... 0.03141116 0.0587507  0.04225926]\n",
            " [0.11304002 0.06518077 1.         ... 0.14146878 0.14748179 0.06881051]\n",
            " ...\n",
            " [0.08855963 0.03141116 0.14146878 ... 1.         0.08743642 0.05424636]\n",
            " [0.08606636 0.0587507  0.14748179 ... 0.08743642 1.         0.08052288]\n",
            " [0.04774834 0.04225926 0.06881051 ... 0.05424636 0.08052288 1.        ]]\n"
          ]
        }
      ]
    },
    {
      "cell_type": "code",
      "source": [
        "print(similarity.shape)"
      ],
      "metadata": {
        "colab": {
          "base_uri": "https://localhost:8080/"
        },
        "id": "W07fb9vDuSGd",
        "outputId": "c7968260-b1ef-4f87-d3cf-46ac268f2667"
      },
      "execution_count": 40,
      "outputs": [
        {
          "output_type": "stream",
          "name": "stdout",
          "text": [
            "(768, 768)\n"
          ]
        }
      ]
    },
    {
      "cell_type": "code",
      "source": [
        "list_of_all_titles = events_data['category'].tolist()\n",
        "print(list_of_all_titles)"
      ],
      "metadata": {
        "colab": {
          "base_uri": "https://localhost:8080/"
        },
        "id": "A8HQaA89ufMX",
        "outputId": "297bb1ba-6486-46a3-c38c-ac74d3847f36"
      },
      "execution_count": 44,
      "outputs": [
        {
          "output_type": "stream",
          "name": "stdout",
          "text": [
            "['Entertainment - Theater', 'Entertainment - Music', 'Entertainment - Theater', 'Entertainment - Dance', 'Entertainment - Music', 'Technology & Business - Tech', 'Entertainment - Dance', 'Technology & Business - Tech', 'Entertainment - Music', 'Entertainment - Music', 'Other', 'Technology & Business - Tech', 'Entertainment - Music', 'Entertainment - Music', 'Art & Culture - Art Exhibit', 'Entertainment - Theater', 'Entertainment - Music', 'Entertainment - Theater', 'Technology & Business - Tech', 'Entertainment - Music', 'Entertainment - Dance', 'Entertainment - Dance', 'Technology & Business - Tech', 'Technology & Business - Tech', 'Art & Culture - Art Exhibit', 'Entertainment - Theater', 'Entertainment - Music', 'Entertainment - Theater', 'Entertainment - Theater', 'Entertainment - Theater', 'Technology & Business - Tech', 'Technology & Business - Tech', 'Entertainment - Music', 'Technology & Business - Tech', 'Entertainment - Dance', 'Technology & Business - Tech', 'Entertainment - Dance', 'Other', 'Entertainment - Theater', 'Technology & Business - Tech', 'Entertainment - Music', 'Entertainment - Dance', 'Entertainment - Theater', 'Entertainment - Music', 'Entertainment - Music', 'Entertainment - Dance', 'Entertainment - Dance', 'Entertainment - Music', 'Entertainment - Theater', 'Entertainment - Dance', 'Entertainment - Theater', 'Social & Lifestyle - Networking', 'Art & Culture - Art Exhibit', 'Entertainment - Dance', 'Other', 'Other', 'Entertainment - Dance', 'Technology & Business - Tech', 'Formal Events - Gala/Ball', 'Technology & Business - Tech', 'Entertainment - Dance', 'Entertainment - Theater', 'Technology & Business - Tech', 'Other', 'Technology & Business - Tech', 'Entertainment - Music', 'Technology & Business - Tech', 'Entertainment - Dance', 'Other', 'Art & Culture - Art Exhibit', 'Art & Culture - Art Exhibit', 'Technology & Business - Tech', 'Technology & Business - Tech', 'Entertainment - Theater', 'Technology & Business - Tech', 'Entertainment - Dance', 'Entertainment - Dance', 'Entertainment - Dance', 'Technology & Business - Tech', 'Art & Culture - Art Exhibit', 'Technology & Business - Tech', 'Technology & Business - Tech', 'Technology & Business - Tech', 'Other', 'Entertainment - Dance', 'Technology & Business - Tech', 'Entertainment - Dance', 'Entertainment - Theater', 'Other', 'Art & Culture - Art Exhibit', 'Entertainment - Dance', 'Technology & Business - Tech', 'Entertainment - Music', 'Entertainment - Theater', 'Technology & Business - Tech', 'Entertainment - Theater', 'Entertainment - Dance', 'Entertainment - Music', 'Entertainment - Dance', 'Education & Professional - Conference', 'Entertainment - Theater', 'Social & Lifestyle - Networking', 'Technology & Business - Tech', 'Entertainment - Dance', 'Other', 'Technology & Business - Tech', 'Other', 'Technology & Business - Tech', 'Entertainment - Theater', 'Entertainment - Music', 'Social & Lifestyle - Networking', 'Entertainment - Music', 'Technology & Business - Tech', 'Technology & Business - Tech', 'Entertainment - Theater', 'Entertainment - Dance', 'Other', 'Technology & Business - Tech', 'Entertainment - Music', 'Entertainment - Theater', 'Technology & Business - Tech', 'Entertainment - Dance', 'Technology & Business - Tech', 'Technology & Business - Tech', 'Technology & Business - Tech', 'Technology & Business - Tech', 'Entertainment - Theater', 'Entertainment - Dance', 'Entertainment - Dance', 'Technology & Business - Tech', 'Social & Lifestyle - Networking', 'Technology & Business - Tech', 'Technology & Business - Tech', 'Entertainment - Dance', 'Art & Culture - Art Exhibit', 'Entertainment - Theater', 'Entertainment - Music', 'Entertainment - Music', 'Technology & Business - Tech', 'Technology & Business - Tech', 'Entertainment - Theater', 'Entertainment - Music', 'Technology & Business - Tech', 'Technology & Business - Tech', 'Technology & Business - Tech', 'Other', 'Social & Lifestyle - Networking', 'Technology & Business - Tech', 'Technology & Business - Tech', 'Entertainment - Theater', 'Other', 'Technology & Business - Tech', 'Entertainment - Theater', 'Art & Culture - Art Exhibit', 'Entertainment - Theater', 'Art & Culture - Art Exhibit', 'Technology & Business - Tech', 'Entertainment - Dance', 'Technology & Business - Tech', 'Entertainment - Music', 'Technology & Business - Tech', 'Technology & Business - Tech', 'Entertainment - Dance', 'Other', 'Entertainment - Dance', 'Other', 'Entertainment - Music', 'Technology & Business - Tech', 'Entertainment - Music', 'Technology & Business - Tech', 'Technology & Business - Tech', 'Entertainment - Music', 'Entertainment - Theater', 'Entertainment - Dance', 'Technology & Business - Tech', 'Technology & Business - Tech', 'Entertainment - Theater', 'Entertainment - Theater', 'Social & Lifestyle - Networking', 'Technology & Business - Tech', 'Entertainment - Dance', 'Technology & Business - Tech', 'Entertainment - Theater', 'Entertainment - Theater', 'Technology & Business - Tech', 'Technology & Business - Tech', 'Entertainment - Theater', 'Other', 'Technology & Business - Tech', 'Art & Culture - Art Exhibit', 'Entertainment - Theater', 'Technology & Business - Tech', 'Technology & Business - Tech', 'Entertainment - Dance', 'Technology & Business - Tech', 'Technology & Business - Tech', 'Entertainment - Dance', 'Entertainment - Dance', 'Art & Culture - Art Exhibit', 'Entertainment - Theater', 'Social & Lifestyle - Networking', 'Technology & Business - Tech', 'Entertainment - Music', 'Entertainment - Theater', 'Art & Culture - Art Exhibit', 'Technology & Business - Tech', 'Technology & Business - Tech', 'Other', 'Entertainment - Theater', 'Entertainment - Theater', 'Technology & Business - Tech', 'Entertainment - Theater', 'Entertainment - Music', 'Technology & Business - Tech', 'Entertainment - Theater', 'Entertainment - Dance', 'Entertainment - Music', 'Entertainment - Theater', 'Entertainment - Dance', 'Technology & Business - Tech', 'Entertainment - Theater', 'Entertainment - Theater', 'Entertainment - Music', 'Other', 'Entertainment - Dance', 'Art & Culture - Art Exhibit', 'Entertainment - Dance', 'Technology & Business - Tech', 'Entertainment - Theater', 'Technology & Business - Tech', 'Entertainment - Music', 'Art & Culture - Art Exhibit', 'Technology & Business - Tech', 'Entertainment - Theater', 'Entertainment - Theater', 'Technology & Business - Tech', 'Entertainment - Dance', 'Entertainment - Theater', 'Entertainment - Music', 'Art & Culture - Art Exhibit', 'Entertainment - Dance', 'Entertainment - Theater', 'Entertainment - Dance', 'Technology & Business - Tech', 'Technology & Business - Tech', 'Technology & Business - Tech', 'Art & Culture - Art Exhibit', 'Art & Culture - Art Exhibit', 'Technology & Business - Tech', 'Entertainment - Theater', 'Art & Culture - Art Exhibit', 'Technology & Business - Tech', 'Entertainment - Dance', 'Entertainment - Theater', 'Entertainment - Theater', 'Art & Culture - Art Exhibit', 'Entertainment - Theater', 'Technology & Business - Tech', 'Entertainment - Dance', 'Entertainment - Music', 'Entertainment - Dance', 'Technology & Business - Tech', 'Entertainment - Music', 'Technology & Business - Tech', 'Technology & Business - Tech', 'Entertainment - Dance', 'Technology & Business - Tech', 'Technology & Business - Tech', 'Entertainment - Dance', 'Entertainment - Dance', 'Technology & Business - Tech', 'Entertainment - Theater', 'Technology & Business - Tech', 'Entertainment - Theater', 'Entertainment - Dance', 'Technology & Business - Tech', 'Entertainment - Dance', 'Entertainment - Dance', 'Technology & Business - Tech', 'Entertainment - Theater', 'Entertainment - Dance', 'Entertainment - Dance', 'Technology & Business - Tech', 'Entertainment - Dance', 'Entertainment - Theater', 'Technology & Business - Tech', 'Entertainment - Music', 'Technology & Business - Tech', 'Technology & Business - Tech', 'Entertainment - Dance', 'Entertainment - Theater', 'Art & Culture - Art Exhibit', 'Technology & Business - Tech', 'Technology & Business - Tech', 'Technology & Business - Tech', 'Technology & Business - Tech', 'Technology & Business - Tech', 'Art & Culture - Art Exhibit', 'Other', 'Technology & Business - Tech', 'Technology & Business - Tech', 'Other', 'Entertainment - Dance', 'Entertainment - Dance', 'Entertainment - Dance', 'Entertainment - Theater', 'Technology & Business - Tech', 'Entertainment - Dance', 'Technology & Business - Tech', 'Other', 'Technology & Business - Tech', 'Education & Professional - Workshop', 'Entertainment - Theater', 'Entertainment - Dance', 'Other', 'Entertainment - Music', 'Technology & Business - Tech', 'Other', 'Education & Professional - Workshop', 'Entertainment - Theater', 'Entertainment - Dance', 'Entertainment - Theater', 'Education & Professional - Workshop', 'Other', 'Technology & Business - Tech', 'Entertainment - Theater', 'Entertainment - Dance', 'Technology & Business - Tech', 'Entertainment - Theater', 'Entertainment - Music', 'Entertainment - Dance', 'Entertainment - Music', 'Technology & Business - Tech', 'Entertainment - Theater', 'Other', 'Entertainment - Music', 'Technology & Business - Tech', 'Technology & Business - Tech', 'Entertainment - Theater', 'Technology & Business - Tech', 'Other', 'Entertainment - Theater', 'Technology & Business - Tech', 'Entertainment - Music', 'Entertainment - Music', 'Other', 'Education & Professional - Workshop', 'Art & Culture - Art Exhibit', 'Technology & Business - Tech', 'Entertainment - Theater', 'Other', 'Art & Culture - Art Exhibit', 'Technology & Business - Tech', 'Entertainment - Theater', 'Entertainment - Music', 'Entertainment - Theater', 'Entertainment - Theater', 'Entertainment - Theater', 'Art & Culture - Art Exhibit', 'Entertainment - Dance', 'Technology & Business - Tech', 'Other', 'Social & Lifestyle - Networking', 'Technology & Business - Tech', 'Entertainment - Dance', 'Entertainment - Dance', 'Entertainment - Dance', 'Technology & Business - Tech', 'Entertainment - Music', 'Technology & Business - Tech', 'Entertainment - Dance', 'Entertainment - Theater', 'Technology & Business - Tech', 'Entertainment - Dance', 'Technology & Business - Tech', 'Entertainment - Music', 'Technology & Business - Tech', 'Entertainment - Dance', 'Art & Culture - Art Exhibit', 'Technology & Business - Tech', 'Technology & Business - Tech', 'Entertainment - Theater', 'Entertainment - Dance', 'Education & Professional - Workshop', 'Technology & Business - Tech', 'Technology & Business - Tech', 'Technology & Business - Tech', 'Entertainment - Dance', 'Technology & Business - Tech', 'Other', 'Other', 'Entertainment - Theater', 'Technology & Business - Tech', 'Other', 'Entertainment - Dance', 'Art & Culture - Art Exhibit', 'Entertainment - Theater', 'Technology & Business - Tech', 'Technology & Business - Tech', 'Entertainment - Music', 'Entertainment - Theater', 'Technology & Business - Tech', 'Entertainment - Theater', 'Entertainment - Dance', 'Entertainment - Dance', 'Entertainment - Dance', 'Entertainment - Dance', 'Art & Culture - Art Exhibit', 'Art & Culture - Art Exhibit', 'Technology & Business - Tech', 'Entertainment - Dance', 'Technology & Business - Tech', 'Education & Professional - Workshop', 'Technology & Business - Tech', 'Entertainment - Dance', 'Technology & Business - Tech', 'Entertainment - Theater', 'Entertainment - Dance', 'Technology & Business - Tech', 'Technology & Business - Tech', 'Art & Culture - Art Exhibit', 'Technology & Business - Tech', 'Art & Culture - Art Exhibit', 'Entertainment - Theater', 'Entertainment - Music', 'Technology & Business - Tech', 'Entertainment - Theater', 'Other', 'Entertainment - Dance', 'Entertainment - Theater', 'Entertainment - Music', 'Art & Culture - Art Exhibit', 'Entertainment - Theater', 'Technology & Business - Tech', 'Entertainment - Theater', 'Entertainment - Music', 'Sports & Fitness - Outdoor Activities', 'Technology & Business - Tech', 'Technology & Business - Tech', 'Technology & Business - Tech', 'Other', 'Education & Professional - Workshop', 'Entertainment - Dance', 'Technology & Business - Tech', 'Entertainment - Theater', 'Entertainment - Music', 'Entertainment - Theater', 'Art & Culture - Art Exhibit', 'Other', 'Entertainment - Dance', 'Technology & Business - Tech', 'Technology & Business - Tech', 'Entertainment - Dance', 'Technology & Business - Tech', 'Technology & Business - Tech', 'Other', 'Technology & Business - Tech', 'Technology & Business - Tech', 'Art & Culture - Art Exhibit', 'Entertainment - Music', 'Technology & Business - Tech', 'Technology & Business - Tech', 'Technology & Business - Tech', 'Entertainment - Theater', 'Entertainment - Theater', 'Entertainment - Theater', 'Entertainment - Dance', 'Entertainment - Music', 'Entertainment - Dance', 'Technology & Business - Tech', 'Entertainment - Dance', 'Technology & Business - Tech', 'Technology & Business - Tech', 'Entertainment - Theater', 'Education & Professional - Workshop', 'Entertainment - Theater', 'Entertainment - Theater', 'Entertainment - Dance', 'Entertainment - Theater', 'Technology & Business - Tech', 'Art & Culture - Art Exhibit', 'Entertainment - Theater', 'Technology & Business - Tech', 'Technology & Business - Tech', 'Entertainment - Music', 'Technology & Business - Tech', 'Entertainment - Music', 'Technology & Business - Tech', 'Entertainment - Music', 'Other', 'Entertainment - Theater', 'Entertainment - Theater', 'Other', 'Technology & Business - Tech', 'Entertainment - Theater', 'Technology & Business - Tech', 'Entertainment - Music', 'Other', 'Education & Professional - Workshop', 'Entertainment - Dance', 'Entertainment - Music', 'Technology & Business - Tech', 'Entertainment - Theater', 'Other', 'Technology & Business - Tech', 'Entertainment - Theater', 'Technology & Business - Tech', 'Technology & Business - Tech', 'Technology & Business - Tech', 'Technology & Business - Tech', 'Technology & Business - Tech', 'Entertainment - Theater', 'Technology & Business - Tech', 'Technology & Business - Tech', 'Technology & Business - Tech', 'Other', 'Other', 'Entertainment - Theater', 'Entertainment - Dance', 'Entertainment - Theater', 'Technology & Business - Tech', 'Other', 'Other', 'Other', 'Social & Lifestyle - Networking', 'Technology & Business - Tech', 'Technology & Business - Tech', 'Technology & Business - Tech', 'Technology & Business - Tech', 'Other', 'Technology & Business - Tech', 'Education & Professional - Workshop', 'Entertainment - Dance', 'Technology & Business - Tech', 'Other', 'Technology & Business - Tech', 'Other', 'Technology & Business - Tech', 'Technology & Business - Tech', 'Technology & Business - Tech', 'Technology & Business - Tech', 'Technology & Business - Tech', 'Social & Lifestyle - Networking', 'Entertainment - Theater', 'Technology & Business - Tech', 'Entertainment - Dance', 'Other', 'Technology & Business - Tech', 'Technology & Business - Tech', 'Technology & Business - Tech', 'Education & Professional - Workshop', 'Technology & Business - Tech', 'Entertainment - Music', 'Technology & Business - Tech', 'Technology & Business - Tech', 'Entertainment - Theater', 'Entertainment - Theater', 'Technology & Business - Tech', 'Art & Culture - Art Exhibit', 'Technology & Business - Tech', 'Other', 'Technology & Business - Tech', 'Technology & Business - Tech', 'Technology & Business - Tech', 'Technology & Business - Tech', 'Technology & Business - Tech', 'Entertainment - Theater', 'Other', 'Entertainment - Theater', 'Education & Professional - Workshop', 'Art & Culture - Art Exhibit', 'Technology & Business - Tech', 'Other', 'Education & Professional - Workshop', 'Entertainment - Theater', 'Entertainment - Music', 'Technology & Business - Tech', 'Entertainment - Music', 'Technology & Business - Tech', 'Technology & Business - Tech', 'Social & Lifestyle - Networking', 'Social & Lifestyle - Networking', 'Art & Culture - Art Exhibit', 'Technology & Business - Tech', 'Technology & Business - Tech', 'Technology & Business - Tech', 'Sports & Fitness - Outdoor Activities', 'Entertainment - Dance', 'Entertainment - Music', 'Technology & Business - Tech', 'Other', 'Art & Culture - Art Exhibit', 'Technology & Business - Tech', 'Social & Lifestyle - Networking', 'Technology & Business - Tech', 'Entertainment - Music', 'Technology & Business - Tech', 'Entertainment - Theater', 'Other', 'Entertainment - Dance', 'Other', 'Entertainment - Theater', 'Technology & Business - Tech', 'Social & Lifestyle - Networking', 'Entertainment - Music', 'Entertainment - Dance', 'Technology & Business - Tech', 'Technology & Business - Tech', 'Other', 'Entertainment - Theater', 'Technology & Business - Tech', 'Other', 'Technology & Business - Tech', 'Technology & Business - Tech', 'Technology & Business - Tech', 'Technology & Business - Tech', 'Technology & Business - Tech', 'Technology & Business - Tech', 'Entertainment - Dance', 'Entertainment - Theater', 'Other', 'Entertainment - Theater', 'Entertainment - Theater', 'Technology & Business - Tech', 'Other', 'Technology & Business - Tech', 'Technology & Business - Tech', 'Entertainment - Dance', 'Entertainment - Music', 'Technology & Business - Tech', 'Entertainment - Dance', 'Entertainment - Theater', 'Entertainment - Theater', 'Technology & Business - Tech', 'Entertainment - Theater', 'Art & Culture - Art Exhibit', 'Entertainment - Dance', 'Entertainment - Dance', 'Entertainment - Music', 'Other', 'Art & Culture - Art Exhibit', 'Entertainment - Dance', 'Entertainment - Dance', 'Other', 'Technology & Business - Tech', 'Technology & Business - Tech', 'Entertainment - Dance', 'Technology & Business - Tech', 'Social & Lifestyle - Networking', 'Entertainment - Dance', 'Entertainment - Dance', 'Other', 'Formal Events - Gala/Ball', 'Other', 'Entertainment - Dance', 'Other', 'Entertainment - Dance', 'Entertainment - Music', 'Entertainment - Theater', 'Entertainment - Theater', 'Other', 'Entertainment - Theater', 'Technology & Business - Tech', 'Other', 'Technology & Business - Tech', 'Entertainment - Dance', 'Other', 'Entertainment - Music', 'Technology & Business - Tech', 'Other', 'Technology & Business - Tech', 'Entertainment - Theater', 'Technology & Business - Tech', 'Technology & Business - Tech', 'Social & Lifestyle - Networking', 'Art & Culture - Art Exhibit', 'Entertainment - Theater', 'Technology & Business - Tech', 'Technology & Business - Tech', 'Entertainment - Music', 'Entertainment - Theater', 'Technology & Business - Tech', 'Technology & Business - Tech', 'Technology & Business - Tech', 'Education & Professional - Workshop', 'Entertainment - Music', 'Entertainment - Dance', 'Art & Culture - Art Exhibit', 'Technology & Business - Tech', 'Technology & Business - Tech', 'Entertainment - Music', 'Entertainment - Theater', 'Art & Culture - Art Exhibit', 'Education & Professional - Workshop', 'Entertainment - Theater', 'Entertainment - Dance', 'Technology & Business - Tech', 'Other', 'Technology & Business - Tech', 'Technology & Business - Tech', 'Other', 'Other', 'Technology & Business - Tech', 'Technology & Business - Tech', 'Other', 'Technology & Business - Tech', 'Technology & Business - Tech', 'Technology & Business - Tech', 'Art & Culture - Art Exhibit', 'Entertainment - Dance', 'Other', 'Entertainment - Theater', 'Technology & Business - Tech', 'Other', 'Art & Culture - Art Exhibit', 'Entertainment - Theater', 'Entertainment - Dance', 'Entertainment - Dance', 'Entertainment - Dance', 'Technology & Business - Tech', 'Entertainment - Dance', 'Technology & Business - Tech', 'Entertainment - Theater', 'Education & Professional - Workshop', 'Technology & Business - Tech', 'Technology & Business - Tech', 'Technology & Business - Tech', 'Art & Culture - Art Exhibit', 'Entertainment - Dance', 'Technology & Business - Tech', 'Technology & Business - Tech', 'Technology & Business - Tech', 'Entertainment - Dance', 'Technology & Business - Tech', 'Entertainment - Music', 'Technology & Business - Tech', 'Entertainment - Theater', 'Technology & Business - Tech', 'Other', 'Technology & Business - Tech', 'Art & Culture - Art Exhibit', 'Technology & Business - Tech', 'Technology & Business - Tech', 'Technology & Business - Tech', 'Technology & Business - Tech', 'Entertainment - Dance', 'Entertainment - Theater', 'Other', 'Sports & Fitness - Outdoor Activities', 'Entertainment - Dance', 'Technology & Business - Tech', 'Technology & Business - Tech', 'Technology & Business - Tech', 'Entertainment - Dance', 'Technology & Business - Tech', 'Education & Professional - Workshop', 'Technology & Business - Tech', 'Education & Professional - Workshop', 'Entertainment - Dance', 'Entertainment - Theater', 'Technology & Business - Tech', 'Entertainment - Theater', 'Technology & Business - Tech', 'Entertainment - Music', 'Entertainment - Dance', 'Entertainment - Dance', 'Technology & Business - Tech', 'Technology & Business - Tech']\n"
          ]
        }
      ]
    },
    {
      "source": [
        "category_input = input('Enter your favourite category (or part of it): ')\n",
        "\n",
        "# Find categories containing the user's input (case-insensitive) and list each category only once\n",
        "matching_categories = []\n",
        "for cat in list_of_all_titles:\n",
        "    if category_input.lower() in cat.lower() and cat not in matching_categories:\n",
        "        matching_categories.append(cat)\n",
        "\n",
        "if matching_categories:\n",
        "    print(\"Matching categories:\", matching_categories)  # Display found categories\n",
        "    category = matching_categories[0]  # Select the first matching category\n",
        "    print(f\"Using category: {category}\")\n",
        "else:\n",
        "    print(f\"No categories found containing '{category_input}'.\")"
      ],
      "cell_type": "code",
      "metadata": {
        "id": "V5B05YhM079S",
        "colab": {
          "base_uri": "https://localhost:8080/"
        },
        "outputId": "00a49474-487d-4c71-9fe1-d82c37526314"
      },
      "execution_count": 43,
      "outputs": [
        {
          "output_type": "stream",
          "name": "stdout",
          "text": [
            "Enter your favourite category (or part of it): music\n",
            "Matching categories: ['Entertainment - Music']\n",
            "Using category: Entertainment - Music\n"
          ]
        }
      ]
    },
    {
      "source": [
        "# Get the index of the chosen category\n",
        "category_index = events_data[events_data['category'] == category].index[0]\n",
        "\n",
        "# Get the similarity scores for all events compared to the chosen category\n",
        "similarity_scores = similarity[category_index]\n",
        "\n",
        "# Create a DataFrame to store event details and similarity scores\n",
        "events_with_scores = events_data[['event_name', 'category']].copy()  # Select desired columns\n",
        "events_with_scores['similarity_score'] = similarity_scores"
      ],
      "cell_type": "code",
      "metadata": {
        "id": "w9cbHmlh1SFh"
      },
      "execution_count": 45,
      "outputs": []
    },
    {
      "source": [
        "# Sort events by similarity score in descending order\n",
        "sorted_events = events_with_scores.sort_values(by=['similarity_score'], ascending=False)\n",
        "\n",
        "# Display the top N events with their similarity scores\n",
        "N = 10  # Number of events to display\n",
        "print(sorted_events.head(N))"
      ],
      "cell_type": "code",
      "metadata": {
        "colab": {
          "base_uri": "https://localhost:8080/"
        },
        "id": "3Cu_VDZk1U48",
        "outputId": "5f7cfdf6-4d62-45ba-82e9-5054105121b2"
      },
      "execution_count": 46,
      "outputs": [
        {
          "output_type": "stream",
          "name": "stdout",
          "text": [
            "                                            event_name  \\\n",
            "1                       ABBA DANCING QUEEN DISCO NIGHT   \n",
            "660   SpaceGodz: Dyloot, Gizma, Michael Liu, Seoulwave   \n",
            "437  Illusions The Drag Queen Show San Francisco - ...   \n",
            "367  Illusions The Drag Brunch San Francisco-Drag Q...   \n",
            "528  Illusions The Drag Queen Show Oakland - Drag Q...   \n",
            "530  Illusions The Drag Brunch Oakland-Drag Queen B...   \n",
            "25          Fog City Pack Presents: ALPHA w/ Sister Zo   \n",
            "96                           RENAISSANCE / RENAIDDANCE   \n",
            "46            SF Pitch Night 2025: Compete and Connect   \n",
            "168                The Elephant 6 Recording Co. (2022)   \n",
            "\n",
            "                         category  similarity_score  \n",
            "1           Entertainment - Music          1.000000  \n",
            "660                         Other          0.169036  \n",
            "437  Technology & Business - Tech          0.161154  \n",
            "367  Technology & Business - Tech          0.156333  \n",
            "528  Technology & Business - Tech          0.140210  \n",
            "530  Technology & Business - Tech          0.137617  \n",
            "25        Entertainment - Theater          0.125922  \n",
            "96          Entertainment - Dance          0.117091  \n",
            "46          Entertainment - Dance          0.114318  \n",
            "168         Entertainment - Music          0.112418  \n"
          ]
        }
      ]
    },
    {
      "cell_type": "code",
      "source": [],
      "metadata": {
        "id": "asdPox0Tgyi_"
      },
      "execution_count": null,
      "outputs": []
    },
    {
      "source": [
        "import difflib\n",
        "import numpy as np\n",
        "import pandas as pd\n",
        "from sklearn.feature_extraction.text import TfidfVectorizer\n",
        "from sklearn.metrics.pairwise import cosine_similarity\n",
        "\n",
        "def get_matching_categories(category_input, all_categories):\n",
        "    matching_categories = []\n",
        "    for cat in all_categories:\n",
        "        if category_input.lower() in cat.lower() and cat not in matching_categories:\n",
        "            matching_categories.append(cat)\n",
        "    return matching_categories\n",
        "\n",
        "def get_events_by_category(category, events_data):\n",
        "    return events_data[events_data['category'] == category].index.tolist()\n",
        "\n",
        "def display_events(event_indices, events_data, start_index=0, num_events=5):\n",
        "    end_index = min(start_index + num_events, len(event_indices))\n",
        "    for index in event_indices[start_index:end_index]:\n",
        "        event_details = events_data.loc[index, ['event_name', 'event_location', 'event_details', 'event_price','event_date']]\n",
        "        print(f\"Event Name: {event_details['event_name']}\")\n",
        "        print(f\"Location: {event_details['event_location']}\")\n",
        "        print(f\"Details: {event_details['event_details']}\")\n",
        "        print(f\"Price: {event_details['event_price']}\")\n",
        "        print(f\"Date: {event_details['event_date']}\")\n",
        "        print(\"-\" * 20)\n",
        "\n",
        "def main_interaction_loop(events_data):\n",
        "    all_categories = events_data['category'].unique().tolist()\n",
        "    budget_ranges = {\n",
        "        \"1\": (0, 50),\n",
        "        \"2\": (50, 100),\n",
        "        \"3\": (100, 200),\n",
        "        \"4\": (200, float('inf'))\n",
        "    }\n",
        "\n",
        "    while True:\n",
        "        category_prompt = f\"Enter your favourite category (or part of it), or type 'q' to quit.\\n\"\n",
        "        category_prompt += f\"Available categories: {', '.join(all_categories)}\\n\"\n",
        "        category_prompt += \"Your input: \"\n",
        "        category_input = input(category_prompt)\n",
        "\n",
        "        if category_input.lower() == 'q':\n",
        "            break\n",
        "\n",
        "        matching_categories = get_matching_categories(category_input, all_categories)\n",
        "\n",
        "        if matching_categories:\n",
        "            category = matching_categories[0]\n",
        "            print(f\"Using category: {category}\")\n",
        "\n",
        "            while True:\n",
        "                budget_choice = input(f\"Enter your budget range:\\n\"\n",
        "                                      f\"1: $0 - $50\\n\"\n",
        "                                      f\"2: $50 - $100\\n\"\n",
        "                                      f\"3: $100 - $200\\n\"\n",
        "                                      f\"4: Above $200\\n\"\n",
        "                                      f\"Your choice: \")\n",
        "\n",
        "                if budget_choice in budget_ranges:\n",
        "                    break\n",
        "                else:\n",
        "                    print(\"Invalid budget choice. Please select a valid option.\")\n",
        "\n",
        "            min_price, max_price = budget_ranges[budget_choice]\n",
        "            filtered_events = events_data[\n",
        "                (events_data['event_price'] >= min_price) & (events_data['event_price'] <= max_price) & (events_data['category'] == category)]\n",
        "            filtered_event_indices = filtered_events.index.tolist()\n",
        "\n",
        "            if not filtered_event_indices:\n",
        "                print(f\"No events found in the '{category}' category within the selected budget range.\")\n",
        "                # Display all events in the category up to the selected budget\n",
        "                filtered_events = events_data[\n",
        "                    (events_data['event_price'] <= max_price) & (events_data['category'] == category)]\n",
        "                filtered_event_indices = filtered_events.index.tolist()\n",
        "                if not filtered_event_indices:\n",
        "                  print(f\"No events found in the '{category}' category within the selected budget range.\")\n",
        "                  break\n",
        "                print(f\"Displaying all events in the '{category}' category up to the selected budget:\")\n",
        "\n",
        "            displayed_events_indices = []\n",
        "            num_events_displayed = 0\n",
        "            display_events(filtered_event_indices, events_data, num_events_displayed, 5)\n",
        "            num_events_displayed += 5\n",
        "            displayed_events_indices.extend(filtered_event_indices[:5])\n",
        "            while num_events_displayed < len(filtered_event_indices):  # Removed user_input != 'q' as it's handled inside the loop\n",
        "                user_input = input(\"See more events (m), previous events (p), or quit (q): \").lower()\n",
        "\n",
        "                if user_input == 'm':\n",
        "                    display_events(filtered_event_indices, events_data, num_events_displayed, 5)\n",
        "                    num_events_displayed += 5\n",
        "                    displayed_events_indices.extend(filtered_event_indices[num_events_displayed - 5:num_events_displayed])\n",
        "                elif user_input == 'p':\n",
        "                    start_index = max(0, len(displayed_events_indices) - 10)  # Show previous 5, up to 10 total\n",
        "                    display_events(displayed_events_indices, events_data, start_index, 5)\n",
        "                elif user_input == 'q':\n",
        "                    break  # User wants to quit\n",
        "                else:\n",
        "                    print(\"Invalid input. Please enter 'm', 'p', or 'q'.\")  # Handle invalid input\n",
        "\n",
        "main_interaction_loop(events_data)"
      ],
      "cell_type": "code",
      "metadata": {
        "colab": {
          "base_uri": "https://localhost:8080/"
        },
        "id": "OLFzoaoMiqqt",
        "outputId": "ef563dcc-056f-4d44-a621-6a5163985fd7"
      },
      "execution_count": 50,
      "outputs": [
        {
          "name": "stdout",
          "output_type": "stream",
          "text": [
            "Enter your favourite category (or part of it), or type 'q' to quit.\n",
            "Available categories: Entertainment - Theater, Entertainment - Music, Entertainment - Dance, Technology & Business - Tech, Other, Art & Culture - Art Exhibit, Social & Lifestyle - Networking, Formal Events - Gala/Ball, Education & Professional - Conference, Education & Professional - Workshop, Sports & Fitness - Outdoor Activities\n",
            "Your input: theater\n",
            "Using category: Entertainment - Theater\n",
            "Enter your budget range:\n",
            "1: $0 - $50\n",
            "2: $50 - $100\n",
            "3: $100 - $200\n",
            "4: Above $200\n",
            "Your choice: 3\n",
            "Event Name: The Hand That Rocks the Crawford\n",
            "Location: OASIS 298 11th Street San Francisco, CA 94103\n",
            "Details: Basic Instinct, Fatal Attraction, Single White Female— what do these films have in common? None of them had Joan Crawford in them… UNTIL NOW! From the award-winning team that brought you Trog! Live comes a world premiere comedy that puts everybody’s favorite Mommie Dearest into all the female-driven thrillers she was born to play. Matthew Martin leads a cast of SF’s finest drag comedians in a madcap farce that just might kill you (with laughter) …because The Hand That Rocks the Crawford is the hand that rules the world! BYO Wire Hangers!Starring: Matthew Martin as JOAN CRAWFORDMichael Phillis as MICHAEL DOUGLASSara Toby Moore as SERGEANT/BOYFRIENDKatya Smirnoff Skyy as BRUNETTESteven LeMay as DAUGHTER21+\n",
            "Price: 161.14\n",
            "Date: Multiple Dates PST \n",
            "--------------------\n",
            "Event Name: Black History Month:  Tribute to Richmond's Sports Leaders\n",
            "Location: 440 Civic Center Plaza 440 Civic Center Plaza Richmond, CA 94804\n",
            "Details: The Richmond Public Library invites you to attend our special Black History Month Program to honor local recreation and sports legends Charlie Reid, Eural McKelvy, and C.A. Robertson for this exciting video tribute and program.DATE:  Thursday, February 23, 2025TIME:  Doors open at 6:00 pmLOCATION:  City Council Chambers  440 Civic Center Plaza  Richmond, CaliforniaFREE ADMISION:  when you RSVP through EventbriteREFRESHMENTSCharlie Reid, Director of the City of Richmond's Shields Park was responsible for creating all recreation and sports activities in the North Richmond community that fostered the professional sports careers of many of the city's all time greatest athletes.In the 1950s, Mr. Reid created the outdoor Twilite Basketball league at Shields Park, which provided an outlet for the community and attracted top talent from all around the Bay Area for exciting and memorable hoop action.The Hensley Baseball Park run by Mr. Reid in North Richmond, provided an inter-generational sports experience for people of all ages in the community. The league helped launch the baseball careers of some of Richmond's greatest Major League players. Check out the \"Straight Otta Richmond\" highlight video below.....MARK YOUR CALENDAR AND RSVP FOR THIS EVENT BECAUSE SEATING IS LIMITED....For more information, contact Angela Cox, Richmond Public Library @ (510) 620-5516\n",
            "Price: 115.43\n",
            "Date: Thu, February 23, 2025, 6:00 PM – 8:30 PM PST\n",
            "--------------------\n",
            "Event Name: The Setup at The Palace Theater\n",
            "Location: The Palace Theater (The Speakeasy SF) 644 Broadway Street San Francisco, CA 94133\n",
            "Details: The Setup is having a special run of Speakeasy comedy shows at The Palace Theater. This is the best speakeasy comedy experience in San Francisco and is a must watch. Underground and intimate, the show  takes place in the bar of the beautiful Palace Theater.The Setup always brings the most talented comedians that the city has to offer, and surprise drop-ins from guest stars passing through.Our  lineups  include comedians who have appeared in The New Yorker,  Netflix, Comedy Central and HBO.Entrance to the Palace Theater is through Sam Lee Laundry (to the left of China Live). Street parking is limited. We strongly encourage ride sharing and public transport.The Palace Theater follows all San Francisco COVID-19 guidelines - so you can finally safely enjoy live comedy once again!This event is for ages 21 and over.Please Note: On July 1st, 15th and 22nd, we have two shows. Early Show - 7:30pm (Doors Open at 7pm)Late Show - 9:30pm (Doors open at 9pm)Avoid ticket fees by purchasing here: https://setupcomedy.com/san-francisco\n",
            "Price: 104.0\n",
            "Date: Multiple Dates Fri, Feb 24, 2025, 11:00 PM PDT\n",
            "--------------------\n",
            "Event Name: \"Black Laughs Matter\" Comedy Festival (Black History Month 2025)\n",
            "Location: Mayes Oyster House 1233 Polk Street San Francisco, CA 94109\n",
            "Details: All. Black. Comics. Need we say more?  See some of the top rising Black comics the Bay Area has to offer as this special comedy showcase in honor of Black History Month 2025This is a special weekend you won't want to miss!And it all takes place at the historic MAYES OYSTER HOUSE, one of the most historic bars on Polk Street and the perfect start to an insanely fun night of bar hopping.P﻿lease note the date change and that the festival is February 24-25, 2025 only.\n",
            "Price: 175.95\n",
            "Date: Multiple Dates PST \n",
            "--------------------\n",
            "Event Name: Black Choreographers Festival: Here and Now\n",
            "Location: Dance Mission Theater 3316 24th Street San Francisco, CA 94110\n",
            "Details: AAAPAC & K*Star*Productions in association with Dance Mission Theater presentBlack Choreographers Festival: Here & Now (BCF)Celebrating 19 years of presenting the festival in the Eastbay and in San Francisco – highlighting award-winning Bay Area Choreographers and companies – featuring unique and dynamic performances!BCF is a great way to celebrate Black History Month – African American heritage and culture.BCF 2025New Voices / New WorksSaturday, February 25 & Sunday, February 26Dance Mission Theater, 3316 – 24th St., San Francisco @ 7:30pmFeaturing artists from the BCF Roster:Gregory Dawson/dawsondancesf, Robert Moses/Robert Moses’ KIN, Justin Sharlman, Natalya Shoaf, Raissa Simpson/PUSH Dance Company, Dazaun SoleynTickets: $15 Adv/Students/Seniors$20 General – at the door$30 VIP Reserved SeatingFor More Information on the full Festival calendar, master classes and special events: bcfhereandnow.com*programming subject to change\n",
            "Price: 122.76\n",
            "Date: Multiple Dates Sun, Feb 26, 2025, 9:30 PM PST\n",
            "--------------------\n",
            "See more events (m), previous events (p), or quit (q): q\n",
            "Enter your favourite category (or part of it), or type 'q' to quit.\n",
            "Available categories: Entertainment - Theater, Entertainment - Music, Entertainment - Dance, Technology & Business - Tech, Other, Art & Culture - Art Exhibit, Social & Lifestyle - Networking, Formal Events - Gala/Ball, Education & Professional - Conference, Education & Professional - Workshop, Sports & Fitness - Outdoor Activities\n",
            "Your input: q\n"
          ]
        }
      ]
    },
    {
      "cell_type": "code",
      "source": [],
      "metadata": {
        "id": "MsmQjOdpu5Oj"
      },
      "execution_count": null,
      "outputs": []
    }
  ]
}